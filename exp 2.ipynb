{
 "cells": [
  {
   "cell_type": "code",
   "execution_count": 9,
   "id": "c90e30fd",
   "metadata": {
    "height": 132
   },
   "outputs": [],
   "source": [
    "from langchain.prompts import PromptTemplate\n",
    "from langchain.chains import LLMChain\n",
    "from langchain.chat_models import ChatOpenAI\n",
    "from langchain.output_parsers import ResponseSchema\n",
    "from langchain.schema.output_parser import StrOutputParser\n",
    "\n"
   ]
  },
  {
   "cell_type": "code",
   "execution_count": 10,
   "id": "227195f1",
   "metadata": {
    "height": 268
   },
   "outputs": [],
   "source": [
    "prompt = PromptTemplate(\n",
    "    template=\"\"\"\n",
    "You are a travel assistant. Based on the following inputs, recommend a destination:\n",
    "- Preferred activity: {activity}\n",
    "- Budget (in USD): {budget}\n",
    "\n",
    "Provide a response strictly in JSON format:\n",
    "{{\n",
    "    \"destination\": \"<destination>\",\n",
    "    \"activity\": \"<activity>\",\n",
    "    \"cost\": \"<cost>\"\n",
    "}}\n",
    "\"\"\",\n",
    "    input_variables=[\"activity\", \"budget\"],\n",
    ")"
   ]
  },
  {
   "cell_type": "code",
   "execution_count": 11,
   "id": "812a453b",
   "metadata": {
    "height": 115
   },
   "outputs": [],
   "source": [
    "response_schemas = [\n",
    "    ResponseSchema(name=\"destination\", description=\"Recommended travel destination\"),\n",
    "    ResponseSchema(name=\"activity\", description=\"Suggested activity at the destination\"),\n",
    "    ResponseSchema(name=\"cost\", description=\"Estimated cost in USD for the trip\"),\n",
    "]\n",
    "output_parser = StrOutputParser()"
   ]
  },
  {
   "cell_type": "code",
   "execution_count": 12,
   "id": "300ddb72",
   "metadata": {
    "height": 30
   },
   "outputs": [],
   "source": [
    "llm = ChatOpenAI(model=\"gpt-4-0613\", temperature=0)"
   ]
  },
  {
   "cell_type": "code",
   "execution_count": 13,
   "id": "e0c413db",
   "metadata": {
    "height": 98
   },
   "outputs": [],
   "source": [
    "chain = LLMChain(llm=llm, prompt=prompt, output_parser=output_parser)\n",
    "\n",
    "# Test the chain with an example\n",
    "input_data = {\"activity\": \"hiking\", \"budget\": 1000}\n",
    "result = chain.run(input_data)"
   ]
  },
  {
   "cell_type": "code",
   "execution_count": 14,
   "id": "c9ffd4a9",
   "metadata": {
    "height": 30
   },
   "outputs": [],
   "source": [
    "parsed_result = output_parser.parse(result)"
   ]
  },
  {
   "cell_type": "code",
   "execution_count": 15,
   "id": "a6526d7a",
   "metadata": {
    "height": 30
   },
   "outputs": [
    {
     "name": "stdout",
     "output_type": "stream",
     "text": [
      "Recommendation: {\n",
      "    \"destination\": \"Appalachian Trail, USA\",\n",
      "    \"activity\": \"hiking\",\n",
      "    \"cost\": \"1000\"\n",
      "}\n"
     ]
    }
   ],
   "source": [
    "print(\"Recommendation:\", parsed_result)"
   ]
  }
 ],
 "metadata": {
  "kernelspec": {
   "display_name": "Python 3 (ipykernel)",
   "language": "python",
   "name": "python3"
  },
  "language_info": {
   "codemirror_mode": {
    "name": "ipython",
    "version": 3
   },
   "file_extension": ".py",
   "mimetype": "text/x-python",
   "name": "python",
   "nbconvert_exporter": "python",
   "pygments_lexer": "ipython3",
   "version": "3.9.19"
  }
 },
 "nbformat": 4,
 "nbformat_minor": 5
}
